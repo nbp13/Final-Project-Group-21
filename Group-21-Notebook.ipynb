{
 "cells": [
  {
   "cell_type": "markdown",
   "metadata": {},
   "source": [
    "# Group 21 Final Notebook\n",
    "## Introduction\n",
    "Our project was trying to figure out what the best neighborhood is using our own chosen metric and sub-metrics.\n",
    "## The Metric\n",
    "Our metric for best neighborhood is quality of life, and our datasets are focused on education rate, employment rate, and arrest rate. Thus, our sub-metrics were education, employment, and crime respectively. We looked at three individual datasets with each of these topics and looked for one that ranked well on all three. The links to each dataset are available on the README.\n",
    "## The Best Neighborhood\n",
    "After analyzing the data, we reached the conclusion that Squirrel Hill North is the best neighborhood. As you will see in the code, it ranks very high on school enrollment and employment, and has a low amount of arrests compared to other neighborhoods. We think this makes it the best neighborhood because it means that it values education and high employment, as well as the safety of its people.\n",
    "## Conclusion\n",
    "We each reflected on how the data-driven determination of “best neighborhood” is the same or different from our personal favorite neighborhood, and wrote our own responses:\n",
    "- Nessa: My favorite neighborhood in Pittsburgh is East Liberty because I have gone there with my friends before to eat food, go to target, and spend time at the stores there. East Liberty is a place we go to sometimes for fun, so it's my favorite neighborhood because I have the most memories associated with it. This is different from the data driven best notebook because East Liberty did not rank top 5 in any of our data sets. When deriving this title from data and numbers, we see Squirrel Hill North has some of the best statistics in terms of education, employment, and arrest rates.\n",
    "- Shawn: Although the number of arrests can indicate the safty of the neighborhood, for example, 4439 arrests at central business district certainly tells us that it might not be a safe place to live. But this might not accurately reflect the true safty, as well as the quality of life of the area, if the neighborhood is in the middle of nowhere, then obviously the number of arrests would be smaller. Based solely on the number of arrests, the best neighorhood overall is Mt. Oliver Neighborhood, with only 2 arrests from 2011 to 2014.\n",
    "- Christopher: My personal favorite neighborhood is actually Presto, because it is where I was born, so the data-driven determination of best neighborhood is different from my actual favorite simply because of nostalgia and personal attachment. I have spent pretty much my entire life there, whether it was spending time with family or going out with friends to play Topgolf, and not as much in Squirrel Hill, but I can still agree that it is a good neighborhood based on the metrics we analyzed."
   ]
  },
  {
   "cell_type": "code",
   "execution_count": null,
   "metadata": {},
   "outputs": [],
   "source": []
  }
 ],
 "metadata": {
  "kernelspec": {
   "display_name": "Python 3",
   "language": "python",
   "name": "python3"
  },
  "language_info": {
   "codemirror_mode": {
    "name": "ipython",
    "version": 3
   },
   "file_extension": ".py",
   "mimetype": "text/x-python",
   "name": "python",
   "nbconvert_exporter": "python",
   "pygments_lexer": "ipython3",
   "version": "3.8.3"
  }
 },
 "nbformat": 4,
 "nbformat_minor": 4
}
